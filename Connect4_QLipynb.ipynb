{
 "cells": [
  {
   "cell_type": "code",
   "execution_count": 75,
   "id": "7fe84664",
   "metadata": {},
   "outputs": [],
   "source": [
    "import numpy as np"
   ]
  },
  {
   "cell_type": "code",
   "execution_count": 76,
   "id": "33158440",
   "metadata": {},
   "outputs": [],
   "source": [
    "import random\n",
    "\n",
    "def endgame(state):\n",
    "    rows = 7\n",
    "    cols = 6\n",
    "    check = [1, 2] # players are represented by 1 and 2\n",
    "    for p in check:\n",
    "        # check for horizontal win\n",
    "        for r in range(rows):\n",
    "            for c in range(cols - 3):\n",
    "                if state[r*cols+c] == p and state[r*cols+c+1] == p and state[r*cols+c+2] == p and state[r*cols+c+3] == p:\n",
    "                    return p\n",
    "        # check for vertical win\n",
    "        for r in range(rows - 3):\n",
    "            for c in range(cols):\n",
    "                if state[r*cols+c] == p and state[(r+1)*cols+c] == p and state[(r+2)*cols+c] == p and state[(r+3)*cols+c] == p:\n",
    "                    return p\n",
    "        # check for diagonal win (positive slope)\n",
    "        for r in range(rows - 3):\n",
    "            for c in range(cols - 3):\n",
    "                if state[r*cols+c] == p and state[(r+1)*cols+c+1] == p and state[(r+2)*cols+c+2] == p and state[(r+3)*cols+c+3] == p:\n",
    "                    return p\n",
    "        # check for diagonal win (negative slope)\n",
    "        for r in range(3, rows):\n",
    "            for c in range(cols - 3):\n",
    "                if state[r*cols+c] == p and state[(r-1)*cols+c+1] == p and state[(r-2)*cols+c+2] == p and state[(r-3)*cols+c+3] == p:\n",
    "                    return p\n",
    "    # check if the board is full\n",
    "    if all(x != 0 for x in state):\n",
    "        return -1\n",
    "    # if no winner and the board is not full, the game is still ongoing\n",
    "    return 0\n"
   ]
  },
  {
   "cell_type": "code",
   "execution_count": 77,
   "id": "46c39466",
   "metadata": {},
   "outputs": [],
   "source": [
    "def find_mov(state, turn):\n",
    "    side = 1 if turn == 1 else -1\n",
    "    empty_pos = [i for i in range(len(state)) if state[i] == 0]\n",
    "    if random.random() < epsilon:\n",
    "        first_try = True\n",
    "        for pos in empty_pos:\n",
    "            if (state, pos) not in Q:\n",
    "                Q[(state, pos)] = random.random() * 2 - 1\n",
    "            if first_try:\n",
    "                max_Q = side * Q[(state, pos)]\n",
    "                max_a = pos\n",
    "                first_try = False\n",
    "            else:\n",
    "                if side * Q[(state, pos)] > max_Q:\n",
    "                    max_Q = side * Q[(state, pos)]\n",
    "                    max_action = pos\n",
    "        return pos\n",
    "    return random.choice(empty_pos)"
   ]
  },
  {
   "cell_type": "code",
   "execution_count": 78,
   "id": "a76ab6a1",
   "metadata": {},
   "outputs": [],
   "source": [
    "def reward(state):\n",
    "    ret = endgame(state)\n",
    "    if ret == 1:\n",
    "        return 1000\n",
    "    if ret == 2:\n",
    "        return -1000\n",
    "    return 0"
   ]
  },
  {
   "cell_type": "code",
   "execution_count": 79,
   "id": "52f2086f",
   "metadata": {},
   "outputs": [],
   "source": [
    "def available_moves(board):\n",
    "    moves = []\n",
    "    rows = 7\n",
    "    cols = 6\n",
    "    for i in range(cols):\n",
    "        for j in range(rows-1,-1,-1):\n",
    "            if board[(j*cols) + i] == 0:\n",
    "                moves.append((j*cols) + i)\n",
    "                break\n",
    "    return moves"
   ]
  },
  {
   "cell_type": "code",
   "execution_count": 80,
   "id": "05da444e",
   "metadata": {},
   "outputs": [],
   "source": [
    "def max_action(Q, state):\n",
    "    state = tuple(state)\n",
    "    empty_pos = available_moves(state)\n",
    "    first_try = True\n",
    "    max_action = -1\n",
    "    max_Q = 0\n",
    "    for pos in empty_pos:\n",
    "        if (state, pos) not in Q:\n",
    "#             print('sd')\n",
    "            Q[(state, pos)] = random.random() * 2 - 1\n",
    "        if first_try:\n",
    "            max_Q = Q[(state, pos)]\n",
    "            max_action = pos\n",
    "            first_try = False\n",
    "        else:\n",
    "            if Q[(state, pos)] > max_Q:\n",
    "                max_Q = Q[(state, pos)]\n",
    "                max_action = pos\n",
    "    return max_action, max_Q"
   ]
  },
  {
   "cell_type": "code",
   "execution_count": 81,
   "id": "73d28eef",
   "metadata": {},
   "outputs": [],
   "source": [
    "def min_action(Q, state):\n",
    "    state = tuple(state)\n",
    "    empty_pos = available_moves(state)\n",
    "    first_try = True\n",
    "    min_a = -1\n",
    "    min_Q = 0\n",
    "    for pos in empty_pos:\n",
    "        if (state, pos) not in Q:\n",
    "            Q[(state, pos)] = random.random() * 2 - 1\n",
    "        if first_try:\n",
    "            min_Q = Q[(state, pos)]\n",
    "            min_a = pos\n",
    "            first_try = False\n",
    "        else:\n",
    "            if Q[(state, pos)] < min_Q:\n",
    "                min_Q = Q[(state, pos)]\n",
    "                min_a = pos\n",
    "    return min_a, min_Q"
   ]
  },
  {
   "cell_type": "code",
   "execution_count": 82,
   "id": "cdb08cf7",
   "metadata": {},
   "outputs": [],
   "source": [
    "def show_state(state):\n",
    "    for i in range(3):\n",
    "        for j in range(3):\n",
    "            print(state[i * 3 + j], end=\" \")\n",
    "        print()\n",
    "    print()"
   ]
  },
  {
   "cell_type": "code",
   "execution_count": 83,
   "id": "cfc53575",
   "metadata": {},
   "outputs": [],
   "source": [
    "def QAgent(alpha, gamma, epsilon, itera):\n",
    "    Q = dict()\n",
    "    for i in range(itera):\n",
    "        current_state = (0,0,0,0,0,0,\n",
    "             0,0,0,0,0,0,\n",
    "             0,0,0,0,0,0,\n",
    "             0,0,0,0,0,0,\n",
    "             0,0,0,0,0,0,\n",
    "             0,0,0,0,0,0,\n",
    "             0,0,0,0,0,0)\n",
    "\n",
    "        while endgame(current_state) == 0:\n",
    "            # O Moves (1's Turn)\n",
    "            turn = 1\n",
    "            next_state = list(current_state)\n",
    "            mov = find_mov(current_state, turn)\n",
    "            next_state[mov] = turn\n",
    "            m_a, m_Q = min_action(Q, next_state)\n",
    "            if (current_state, mov) not in Q:\n",
    "                Q[(current_state, mov)] = random.random() * 2 - 1\n",
    "            Q[(current_state, mov)] = Q[(current_state, mov)] + alpha * (\n",
    "                reward(next_state) + gamma * m_Q - Q[(current_state, mov)]\n",
    "            )\n",
    "            current_state = tuple(next_state)\n",
    "            if endgame(current_state) != 0:\n",
    "                break\n",
    "            current_state = tuple(next_state)\n",
    "\n",
    "            # X Moves (2's Turn)\n",
    "            turn = 2\n",
    "            next_state = list(current_state)\n",
    "            mov = find_mov(current_state, turn)\n",
    "            next_state[mov] = turn\n",
    "            m_a, m_Q = max_action(Q, next_state)\n",
    "            if (current_state, mov) not in Q:\n",
    "                Q[(current_state, mov)] = random.random() * 2 - 1\n",
    "            Q[(current_state, mov)] = Q[(current_state, mov)] + alpha * (\n",
    "                reward(next_state) + gamma * m_Q - Q[(current_state, mov)]\n",
    "            )\n",
    "            current_state = tuple(next_state)\n",
    "            if endgame(current_state) != 0:\n",
    "                break\n",
    "            current_state = tuple(next_state)\n",
    "    return Q"
   ]
  },
  {
   "cell_type": "code",
   "execution_count": 84,
   "id": "b9492a7a",
   "metadata": {},
   "outputs": [],
   "source": [
    "def printboard(state):\n",
    "    state = [' ' if x==0 else x for x in state]\n",
    "    state = ['x' if x==1 else x for x in state]\n",
    "    state = ['o' if x==2 else x for x in state]\n",
    "    print('| {} | {} | {} | {} | {} | {} |'.format(state[0], state[1], state[2], state[3], state[4], state[5]))\n",
    "#     print('---+---+---+---+---+---')\n",
    "    print('| {} | {} | {} | {} | {} | {} |'.format(state[6], state[7], state[8], state[9], state[10], state[11]))\n",
    "#     print('---+---+---+---+---+---')\n",
    "    print('| {} | {} | {} | {} | {} | {} |'.format(state[12], state[13], state[14], state[15], state[16], state[17]))\n",
    "#     print('---+---+---+---+---+---')\n",
    "    print('| {} | {} | {} | {} | {} | {} |'.format(state[18], state[19], state[20], state[21], state[22], state[23]))\n",
    "#     print('---+---+---+---+---+---')\n",
    "    print('| {} | {} | {} | {} | {} | {} |'.format(state[24], state[25], state[26], state[27], state[28], state[29]))\n",
    "#     print('---+---+---+---+---+---')\n",
    "    print('| {} | {} | {} | {} | {} | {} |'.format(state[30], state[31], state[32], state[33], state[34], state[35]))\n",
    "    \n",
    "    print('| {} | {} | {} | {} | {} | {} |'.format(state[36], state[37], state[38], state[39], state[40], state[41]))\n",
    "    print('\\n')\n"
   ]
  },
  {
   "cell_type": "code",
   "execution_count": 85,
   "id": "e78c3137",
   "metadata": {},
   "outputs": [],
   "source": [
    "def check_potential_win(board, player):\n",
    "    # Check horizontal potential wins\n",
    "    for i in range(6):\n",
    "        for j in range(3):\n",
    "#             print(i*6+j)\n",
    "            if board[i*6+j] == player and board[i*6+j+1] == player and board[i*6+j+2] == player and board[i*6+j+3] == 0:\n",
    "#                 print('a')\n",
    "                return j\n",
    "            if board[i*6+j] == player and board[i*6+j+1] == player and board[i*6+j+3] == player and board[i*6+j+2] == 0:\n",
    "#                 print('b')\n",
    "                return j\n",
    "            if board[i*6+j] == player and board[i*6+j+2] == player and board[i*6+j+3] == player and board[i*6+j+1] == 0:\n",
    "#                 print('c')\n",
    "                return j\n",
    "            if board[i*6+j+1] == player and board[i*6+j+2] == player and board[i*6+j+3] == player and board[i*6+j] == 0:\n",
    "#                 print('d')\n",
    "                return j\n",
    "    \n",
    "    # Check vertical potential wins\n",
    "    for j in range(6):\n",
    "        for i in range(4):\n",
    "#             print(i*6+j, (i+1)*6+j,(i+2)*6+j, (i+3)*6+j)\n",
    "\n",
    "            \n",
    "            if board[i*6+j] == 0 and board[(i+1)*6+j] == player and board[(i+2)*6+j] == player and board[(i+3)*6+j] == player:\n",
    "#                 print('e')\n",
    "                return j\n",
    "        \n",
    "    # Check diagonal potential wins (left to right)\n",
    "    for i in range(4):\n",
    "        for j in range(3):\n",
    "            \n",
    "            if board[i*6+j] == 0 and board[(i+1)*6+j+1] == player and board[(i+2)*6+j+2] == player and board[(i+3)*6+j+3] == player:\n",
    "#                 print('f')\n",
    "                return j\n",
    "            \n",
    "    # Check diagonal potential wins (right to left)\n",
    "    for i in range(4):\n",
    "        for j in range(3, 6):\n",
    "            if board[i*6+j] == 0 and board[(i+1)*6+j-1] == player and board[(i+2)*6+j-2] == player and board[(i+3)*6+j-3] == player:\n",
    "#                 print('g')\n",
    "                return j\n",
    "        \n",
    "    # If no potential wins, return random column\n",
    "    k = []\n",
    "#     print('k')\n",
    "    for i in range(6):\n",
    "        if board[i] == 0:\n",
    "            k.append(i)\n",
    "#     print(k)\n",
    "    if len(k):\n",
    "        return k[random.randint(0,len(k)-1)]\n",
    "    else:\n",
    "        return -1\n"
   ]
  },
  {
   "cell_type": "code",
   "execution_count": 86,
   "id": "24d01872",
   "metadata": {},
   "outputs": [],
   "source": [
    "def getValidRow(board, column):\n",
    "    row = 6\n",
    "    while row >= 0:\n",
    "#         print(row * 6 + column)\n",
    "        if board[row * 6 + column] == 0:\n",
    "            break\n",
    "        row -= 1\n",
    "    if row < 0:\n",
    "        return -1\n",
    "    return row"
   ]
  },
  {
   "cell_type": "code",
   "execution_count": 87,
   "id": "ac8a083a",
   "metadata": {},
   "outputs": [],
   "source": [
    "def check_winner(board):\n",
    "    rows = 7\n",
    "    cols = 6\n",
    "        \n",
    "    for i in range(rows):\n",
    "        for j in range(cols - 3):\n",
    "            idx = i * cols + j\n",
    "            if (board[idx] != 0 and\n",
    "                board[idx] == board[idx+1] == board[idx+2] == board[idx+3]):\n",
    "                return board[idx]\n",
    "\n",
    "    for j in range(cols):\n",
    "        for i in range(rows - 3):\n",
    "            idx = i * cols + j\n",
    "            if (board[idx] != 0 and\n",
    "                board[idx] == board[idx+cols] == board[idx+2*cols] == board[idx+3*cols]):\n",
    "                return board[idx]\n",
    "\n",
    "    for i in range(rows - 3):\n",
    "        for j in range(cols - 3):\n",
    "            idx = i * cols + j\n",
    "            if (board[idx] != 0 and\n",
    "                board[idx] == board[idx+cols+1] == board[idx+2*cols+2] == board[idx+3*cols+3]):\n",
    "                return board[idx]\n",
    "\n",
    "    for i in range(3, rows):\n",
    "        for j in range(cols - 3):\n",
    "            idx = i * cols + j\n",
    "            if (board[idx] != 0 and\n",
    "                board[idx] == board[idx-cols+1] == board[idx-2*cols+2] == board[idx-3*cols+3]):\n",
    "                return board[idx]\n",
    "                \n",
    "    return None\n"
   ]
  },
  {
   "cell_type": "code",
   "execution_count": 88,
   "id": "aa538717",
   "metadata": {},
   "outputs": [],
   "source": [
    "def run(j,itera):\n",
    "    wins_computer = []\n",
    "    wins_user = []\n",
    "    ties = []\n",
    "    \n",
    "    for ii in range(itera):\n",
    "\n",
    "        s = (0,0,0,0,0,0,\n",
    "             0,0,0,0,0,0,\n",
    "             0,0,0,0,0,0,\n",
    "             0,0,0,0,0,0,\n",
    "             0,0,0,0,0,0,\n",
    "             0,0,0,0,0,0,\n",
    "             0,0,0,0,0,0)\n",
    "        \n",
    "\n",
    "        i = j\n",
    "        if i == 0:\n",
    "            player = 1\n",
    "            opponent = 2\n",
    "        else:\n",
    "            player = 2\n",
    "            opponent = 1\n",
    "            \n",
    "        while not check_winner(s):\n",
    "            if i%2==0:\n",
    "#                 print('Random')\n",
    "                move = check_potential_win(s, opponent)\n",
    "#                 print(move)\n",
    "                if move==-1:\n",
    "                    ties.append(1)\n",
    "                    break\n",
    "                row = getValidRow(list(s),move)\n",
    "                s = list(s)\n",
    "                s[row*6+move] = player\n",
    "            \n",
    "            else:\n",
    "#                 print('Computer')\n",
    "                a, b = max_action(Q,s)\n",
    "                s = list(s)\n",
    "#                 game.rem(moves_array,a)\n",
    "#                 if first_try:\n",
    "#                     a = random.randint(0, 8)\n",
    "#                     first_try = False            \n",
    "                s[a] = opponent\n",
    "                s = tuple(s)\n",
    "#             printboard(s)\n",
    "#             print(s)\n",
    "            i = i + 1\n",
    "                \n",
    "                \n",
    "        if check_winner(s)==opponent:\n",
    "            wins_computer.append(1)\n",
    "        elif check_winner(s)==player:\n",
    "            wins_user.append(1)\n",
    "        \n",
    "#     print(check_winner(s))\n",
    "    return len(wins_computer), len(wins_user), len(ties)\n"
   ]
  },
  {
   "cell_type": "code",
   "execution_count": 89,
   "id": "835dad96",
   "metadata": {},
   "outputs": [],
   "source": [
    "Q = {}\n",
    "alpha = 0.1\n",
    "gamma = 0.8\n",
    "epsilon = 0.4\n",
    "Q = QAgent(alpha,gamma,epsilon,20000)"
   ]
  },
  {
   "cell_type": "code",
   "execution_count": 90,
   "id": "94e760d0",
   "metadata": {},
   "outputs": [
    {
     "data": {
      "text/plain": [
       "2766200"
      ]
     },
     "execution_count": 90,
     "metadata": {},
     "output_type": "execute_result"
    }
   ],
   "source": [
    "len(Q)"
   ]
  },
  {
   "cell_type": "code",
   "execution_count": 91,
   "id": "cd635cfc",
   "metadata": {
    "scrolled": true
   },
   "outputs": [
    {
     "data": {
      "text/plain": [
       "(426, 570, 4)"
      ]
     },
     "execution_count": 91,
     "metadata": {},
     "output_type": "execute_result"
    }
   ],
   "source": [
    "#Computer First\n",
    "run(1,1000)"
   ]
  },
  {
   "cell_type": "code",
   "execution_count": 93,
   "id": "0cf47ad5",
   "metadata": {},
   "outputs": [
    {
     "data": {
      "text/plain": [
       "(362, 632, 6)"
      ]
     },
     "execution_count": 93,
     "metadata": {},
     "output_type": "execute_result"
    }
   ],
   "source": [
    "# Smart First\n",
    "run(0,1000)"
   ]
  },
  {
   "cell_type": "code",
   "execution_count": 67,
   "id": "4df22970",
   "metadata": {},
   "outputs": [],
   "source": [
    "Q = {}\n",
    "alpha = 0.5\n",
    "gamma = 0.8\n",
    "epsilon = 0.4\n",
    "Q = QAgent(alpha,gamma,epsilon,20000)"
   ]
  },
  {
   "cell_type": "code",
   "execution_count": 68,
   "id": "c8c2671b",
   "metadata": {},
   "outputs": [
    {
     "data": {
      "text/plain": [
       "2774177"
      ]
     },
     "execution_count": 68,
     "metadata": {},
     "output_type": "execute_result"
    }
   ],
   "source": [
    "len(Q)"
   ]
  },
  {
   "cell_type": "code",
   "execution_count": 70,
   "id": "b2bb8a00",
   "metadata": {},
   "outputs": [
    {
     "data": {
      "text/plain": [
       "(451, 546, 3)"
      ]
     },
     "execution_count": 70,
     "metadata": {},
     "output_type": "execute_result"
    }
   ],
   "source": [
    "#Computer First\n",
    "run(1,1000)"
   ]
  },
  {
   "cell_type": "code",
   "execution_count": 71,
   "id": "646812c2",
   "metadata": {},
   "outputs": [
    {
     "data": {
      "text/plain": [
       "(338, 655, 7)"
      ]
     },
     "execution_count": 71,
     "metadata": {},
     "output_type": "execute_result"
    }
   ],
   "source": [
    "# Smart First\n",
    "run(0,1000)"
   ]
  },
  {
   "cell_type": "code",
   "execution_count": 72,
   "id": "e7ccc00e",
   "metadata": {},
   "outputs": [],
   "source": [
    "Q = {}\n",
    "alpha = 0.8\n",
    "gamma = 1\n",
    "epsilon = 0.4\n",
    "Q = QAgent(alpha,gamma,epsilon,20000)"
   ]
  },
  {
   "cell_type": "code",
   "execution_count": 73,
   "id": "8adc7496",
   "metadata": {},
   "outputs": [
    {
     "data": {
      "text/plain": [
       "(402, 593, 5)"
      ]
     },
     "execution_count": 73,
     "metadata": {},
     "output_type": "execute_result"
    }
   ],
   "source": [
    "#Computer First\n",
    "run(1,1000)"
   ]
  },
  {
   "cell_type": "code",
   "execution_count": 74,
   "id": "0c470cc6",
   "metadata": {},
   "outputs": [
    {
     "data": {
      "text/plain": [
       "(344, 646, 10)"
      ]
     },
     "execution_count": 74,
     "metadata": {},
     "output_type": "execute_result"
    }
   ],
   "source": [
    "# Smart First\n",
    "run(0,1000)"
   ]
  }
 ],
 "metadata": {
  "kernelspec": {
   "display_name": "Python 3 (ipykernel)",
   "language": "python",
   "name": "python3"
  },
  "language_info": {
   "codemirror_mode": {
    "name": "ipython",
    "version": 3
   },
   "file_extension": ".py",
   "mimetype": "text/x-python",
   "name": "python",
   "nbconvert_exporter": "python",
   "pygments_lexer": "ipython3",
   "version": "3.11.0"
  }
 },
 "nbformat": 4,
 "nbformat_minor": 5
}
